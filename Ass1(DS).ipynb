{
 "cells": [
  {
   "cell_type": "markdown",
   "id": "952ebae5",
   "metadata": {},
   "source": [
    "Q1. Create one variable containing following type of data:\n",
    "(i) string\n",
    "(ii) list\n",
    "(iii) float\n",
    "(iv) tuple\n",
    "\n",
    "\n"
   ]
  },
  {
   "cell_type": "code",
   "execution_count": null,
   "id": "d36d0a47",
   "metadata": {},
   "outputs": [],
   "source": [
    "# (i) String\n",
    "my_string = \"Hello, world!\"\n",
    "\n",
    "# (ii) List\n",
    "my_list = [1, 2, 3, 4, 5]\n",
    "\n",
    "# (iii) Float\n",
    "my_float = 3.14\n",
    "\n",
    "# (iv) Tuple\n",
    "my_tuple = (10, 20, 30, 40, 50)\n"
   ]
  },
  {
   "cell_type": "markdown",
   "id": "62f5a27a",
   "metadata": {},
   "source": [
    "# Q2. Given are some following variables containing data:\n",
    "(i) var1 = ‘ ‘\n",
    "(ii) var2 = ‘[ DS , ML , Python]’\n",
    "(iii) var3 = [ ‘DS’ , ’ML’ , ‘Python’ ]\n",
    "(iv) var4 = 1.\n",
    "What will be the data type of the above given variable."
   ]
  },
  {
   "cell_type": "code",
   "execution_count": 30,
   "id": "4e1bbfd5",
   "metadata": {},
   "outputs": [
    {
     "name": "stdout",
     "output_type": "stream",
     "text": [
      "<class 'str'>\n"
     ]
    }
   ],
   "source": [
    " var1 = ' '\n",
    "print(type(var1))\n",
    " \n",
    "\n"
   ]
  },
  {
   "cell_type": "code",
   "execution_count": 34,
   "id": "addcd1a5",
   "metadata": {},
   "outputs": [
    {
     "name": "stdout",
     "output_type": "stream",
     "text": [
      "<class 'str'>\n"
     ]
    }
   ],
   "source": [
    "\n",
    "    var2 = '[ DS , ML , Python]'\n",
    "    print(type(var2))"
   ]
  },
  {
   "cell_type": "code",
   "execution_count": 33,
   "id": "e645ff76",
   "metadata": {},
   "outputs": [
    {
     "name": "stdout",
     "output_type": "stream",
     "text": [
      "<class 'list'>\n"
     ]
    }
   ],
   "source": [
    "var3 = [ 'DS' , 'ML' , 'Python' ]\n",
    "print(type(var3))"
   ]
  },
  {
   "cell_type": "code",
   "execution_count": 32,
   "id": "9b2e00bf",
   "metadata": {},
   "outputs": [
    {
     "data": {
      "text/plain": [
       "float"
      ]
     },
     "execution_count": 32,
     "metadata": {},
     "output_type": "execute_result"
    }
   ],
   "source": [
    "var4 = 1.\n",
    "type(var4)"
   ]
  },
  {
   "cell_type": "markdown",
   "id": "5e13eed7",
   "metadata": {},
   "source": [
    "# Q3. Explain the use of the following operators using an example:\n",
    "(i) /\n",
    "(ii) %\n",
    "(iii) //\n",
    "(iv) **\n",
    "\n",
    "(i) / (Division Operator):\n",
    "The / operator is used for division. It divides the left operand by the right operand and returns a floating-point result.\n",
    "\n",
    "(ii) % (Modulus Operator):\n",
    "The % operator returns the remainder of the division between the left operand and the right operand.\n",
    "\n",
    "(iii) // (Floor Division Operator):\n",
    "The // operator performs floor division, which divides the left operand by the right operand and returns the largest integer that is less than or equal to the division result.\n",
    "\n",
    "(iv) ** (Exponentiation Operator):\n",
    "The ** operator raises the left operand to the power of the right operand.\n",
    "\n"
   ]
  },
  {
   "cell_type": "markdown",
   "id": "30e59042",
   "metadata": {},
   "source": [
    "# Q4. Create a list of length 10 of your choice containing multiple types of data. Using for loop print the element and its data type."
   ]
  },
  {
   "cell_type": "code",
   "execution_count": 36,
   "id": "eb3663f1",
   "metadata": {},
   "outputs": [
    {
     "name": "stdout",
     "output_type": "stream",
     "text": [
      " i: 1, Data Type: <class 'int'>\n",
      " i: 2, Data Type: <class 'int'>\n",
      " i: 3, Data Type: <class 'int'>\n",
      " i: 45, Data Type: <class 'int'>\n",
      " i: 5.4, Data Type: <class 'float'>\n",
      " i: str, Data Type: <class 'str'>\n",
      " i: 1, Data Type: <class 'int'>\n",
      " i: {1, 2, 3}, Data Type: <class 'set'>\n",
      " i: 11, Data Type: <class 'int'>\n",
      " i: 1.1, Data Type: <class 'float'>\n"
     ]
    }
   ],
   "source": [
    "my_list = [1,2,3,45,5.4,\"str\",(1),{1,2,3,3},11,1.1]\n",
    "\n",
    "for i in my_list :\n",
    "    print (f\" i: {i}, Data Type: { type(i)}\")\n",
    "    "
   ]
  },
  {
   "cell_type": "markdown",
   "id": "c5d0a8bb",
   "metadata": {},
   "source": [
    "# Q5. Using a while loop, verify if the number A is purely divisible by number B and if so then how many times it can be divisible."
   ]
  },
  {
   "cell_type": "code",
   "execution_count": null,
   "id": "a454803e",
   "metadata": {},
   "outputs": [],
   "source": [
    "A = int(input(\"Enter the value of A: \"))\n",
    "B = int(input(\"Enter the value of B: \"))\n",
    "\n",
    "count = 0 \n",
    "\n",
    "while A >= B and A % B == 0:\n",
    "    A = A / B\n",
    "    count += 1 \n",
    "    "
   ]
  },
  {
   "cell_type": "markdown",
   "id": "43d713fa",
   "metadata": {},
   "source": [
    "# Q6. Create a list containing 25 int type data. Using for loop and if-else condition print if the element is divisible by 3 or not."
   ]
  },
  {
   "cell_type": "code",
   "execution_count": null,
   "id": "89fe5070",
   "metadata": {},
   "outputs": [],
   "source": [
    "my_list = [2,3,4,6,9,12,113,11,15,16,17,18,110,33,3,30,17,18,19,20,21,25,21,27,25]\n",
    "for i in my_list :\n",
    "    if i % 3 == 0:\n",
    "        print (f\"{i} is divisible by 3  \")\n",
    "    else :\n",
    "        print (f \"{i} is not divisible by 3\")\n",
    "        "
   ]
  },
  {
   "cell_type": "markdown",
   "id": "5d10a9be",
   "metadata": {},
   "source": [
    "# Q7. What do you understand about mutable and immutable data types? Give examples for both showing this property."
   ]
  },
  {
   "cell_type": "code",
   "execution_count": null,
   "id": "a26fc4c1",
   "metadata": {},
   "outputs": [],
   "source": [
    "Mutable Data Types:\n",
    "A mutable data type is one whose value can be modified after it is created. This means you can change its internal state without creating a new object. Mutable objects are generally more memory-efficient and can be modified in-place, which can be useful for performance optimization.\n",
    "Examples of mutable data types in Python include:\n",
    "\n",
    "Lists\n",
    "Sets\n",
    "Dictionaries\n",
    "\n",
    "Immutable Data Types:\n",
    "An immutable data type is one whose value cannot be changed after it is created. If you want to modify an immutable object, you create a new object with the desired changes. Immutable objects are generally safer to use in concurrent or multi-threaded environments because they can't be altered by other parts of the program once they're created.\n",
    "\n",
    "Examples of immutable data types in Python include:\n",
    "\n",
    "Integers\n",
    "Floats\n",
    "Strings\n",
    "Tuples\n"
   ]
  },
  {
   "cell_type": "code",
   "execution_count": null,
   "id": "60023d9c",
   "metadata": {},
   "outputs": [],
   "source": []
  },
  {
   "cell_type": "code",
   "execution_count": null,
   "id": "e96a98b1",
   "metadata": {},
   "outputs": [],
   "source": []
  },
  {
   "cell_type": "code",
   "execution_count": null,
   "id": "fa04d71c",
   "metadata": {},
   "outputs": [],
   "source": []
  },
  {
   "cell_type": "code",
   "execution_count": null,
   "id": "cccb26c7",
   "metadata": {},
   "outputs": [],
   "source": []
  },
  {
   "cell_type": "code",
   "execution_count": null,
   "id": "45cd40d0",
   "metadata": {},
   "outputs": [],
   "source": []
  },
  {
   "cell_type": "code",
   "execution_count": null,
   "id": "b8cd87e2",
   "metadata": {},
   "outputs": [],
   "source": []
  }
 ],
 "metadata": {
  "kernelspec": {
   "display_name": "Python 3 (ipykernel)",
   "language": "python",
   "name": "python3"
  },
  "language_info": {
   "codemirror_mode": {
    "name": "ipython",
    "version": 3
   },
   "file_extension": ".py",
   "mimetype": "text/x-python",
   "name": "python",
   "nbconvert_exporter": "python",
   "pygments_lexer": "ipython3",
   "version": "3.11.4"
  }
 },
 "nbformat": 4,
 "nbformat_minor": 5
}
